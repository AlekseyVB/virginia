{
 "cells": [
  {
   "cell_type": "code",
   "execution_count": 23,
   "metadata": {},
   "outputs": [],
   "source": [
    "import cv2\n",
    "from skimage.metrics  import structural_similarity\n",
    "import os\n",
    "import numpy as np\n",
    "import time"
   ]
  },
  {
   "cell_type": "code",
   "execution_count": 24,
   "metadata": {},
   "outputs": [],
   "source": [
    "#@title Определяем параметры\n",
    "PATH = 'Video/'     #Путь к видеофайлам\n",
    "JUMP = 100          #Для корректировки указателя позиции кадра\n",
    "OFFSET = 0          #Стартуем нумерацию со смещением\n",
    "SIM_TRSH = 0.991    #Допустимая степень похожести видео и картинок"
   ]
  },
  {
   "cell_type": "code",
   "execution_count": 25,
   "metadata": {},
   "outputs": [],
   "source": [
    "#@title Сервисные функции"
   ]
  },
  {
   "cell_type": "code",
   "execution_count": 26,
   "metadata": {},
   "outputs": [],
   "source": [
    "# Контекстный менеджер для измерения времени операций\n",
    "class timex:\n",
    "    def __enter__(self):\n",
    "        # Фиксация времени старта процесса\n",
    "        self.t = time.time()\n",
    "        return self\n",
    "\n",
    "    def __exit__(self, type, value, traceback):\n",
    "        # Вывод времени работы\n",
    "        print('Время обработки: {:.2f} с'.format(time.time() - self.t))"
   ]
  },
  {
   "cell_type": "code",
   "execution_count": 27,
   "metadata": {},
   "outputs": [],
   "source": [
    "# Показать несколько картинок\n",
    "import matplotlib.pyplot as plt\n",
    "import math\n",
    "%matplotlib inline\n",
    "def show_images(cols, *images):\n",
    "    num_images = len(images)\n",
    "    fig, axes = plt.subplots(cols, math.ceil(num_images/cols), figsize=(10, 5))\n",
    "    axs = np.ravel(axes)\n",
    "    for i, image in enumerate(images):\n",
    "        axs[i].imshow(image, cmap=plt.cm.gray)\n",
    "        axs[i].axis('off')\n",
    "\n",
    "    plt.tight_layout()\n",
    "    plt.show()\n",
    "    plt.close()"
   ]
  },
  {
   "cell_type": "code",
   "execution_count": 28,
   "metadata": {},
   "outputs": [],
   "source": [
    "# Сравнить кадры степень похожести -Similarity если 1 кадры совпадают 0 нет совпадений\n",
    "def frame_count_compare(frame1, frame2):\n",
    "    frame1_g = cv2.cvtColor(frame1, cv2.COLOR_BGR2GRAY)\n",
    "    frame2_g = cv2.cvtColor(frame2, cv2.COLOR_BGR2GRAY)\n",
    "    (score, frame_diff) = structural_similarity(frame1_g,\n",
    "        frame2_g, full=True)\n",
    "#    if score != 1:\n",
    "#        show_images(2,frame1,frame2,frame_diff)\n",
    "    return score, frame_diff\n"
   ]
  },
  {
   "cell_type": "code",
   "execution_count": 29,
   "metadata": {},
   "outputs": [],
   "source": [
    "# Иммитация разбора кадров программой Антона\n",
    "def frame_read(pos,video):\n",
    "    video.set(cv2.CAP_PROP_POS_FRAMES,(pos//JUMP*JUMP))\n",
    "    if pos%JUMP:\n",
    "        for i in range(int(pos%JUMP)):\n",
    "            ok,frame = video.read()\n",
    "    else:      \n",
    "        ok, frame = video.read()\n",
    "    return ok, frame"
   ]
  },
  {
   "cell_type": "code",
   "execution_count": 30,
   "metadata": {},
   "outputs": [],
   "source": [
    "def check_video_jump(vid_name,jump):\n",
    "\n",
    "    cap1 = cv2.VideoCapture(vid_name)\n",
    "    frame_count = int(cap1.get(cv2.CAP_PROP_FRAME_COUNT))\n",
    "    print('Frame count:', frame_count)\n",
    "    cap1.set(cv2.CAP_PROP_POS_FRAMES,OFFSET)\n",
    "   # ok,frame1 = cap1.read()\n",
    "    for frame_pos in range (frame_count-OFFSET):\n",
    "      ok, frame1 = frame_read(frame_pos,cap1)\n",
    "      if not ok:\n",
    "         return 0\n",
    "    #while ok:\n",
    "    #  for i in range(jump):\n",
    "    #    ok,frame1 = cap1.read()\n",
    "    #    if  ok == False:\n",
    "    #       return 0\n",
    "\n",
    "      frame_num = cap1.get(cv2.CAP_PROP_POS_FRAMES)\n",
    "      cap1.set(cv2.CAP_PROP_POS_FRAMES,frame_num-1)\n",
    "      ok2,frame2 =cap1.read()\n",
    "      if not ok2:\n",
    "         print('Read Fail')\n",
    "         return 0\n",
    "      similarity = frame_count_compare(frame1,frame2)\n",
    "      if similarity < 1:\n",
    "         print(f'Frame Number: {frame_num} Similarity:{similarity}')\n",
    "         cap1.set(cv2.CAP_PROP_POS_FRAMES,frame_num)      #Если кадры не совпали, корректируем позицию"
   ]
  },
  {
   "cell_type": "code",
   "execution_count": 31,
   "metadata": {},
   "outputs": [],
   "source": [
    "def check_video_image_similarity(name,show_diff = False):\n",
    "    video = os.path.join(PATH, name+'.mp4')\n",
    "    cap = cv2.VideoCapture(video)\n",
    "    cap.set(cv2.CAP_PROP_POS_FRAMES,OFFSET)\n",
    "    ok, frame = cap.read()\n",
    "    if not ok:\n",
    "        print(f'Can not open file: {video}')\n",
    "    frame_num = 1\n",
    "    diff = 0\n",
    "    try:\n",
    "        img = cv2.imread(os.path.join('Images',name,f'{name}_{frame_num:06d}.jpg'))\n",
    "    except:\n",
    "        print('image',os.path.join('Images',name,f'{name}_{frame_num:06d}.jpg'), 'not found')\n",
    "    while ok:\n",
    "        if not ok: break\n",
    "        try:\n",
    "            img = cv2.imread(os.path.join('Images',name,f'{name}_{frame_num:06d}.jpg'))\n",
    "        except:\n",
    "            print('image',os.path.join('Images',name,f'{name}_{frame_num:06d}.jpg'), 'not found')\n",
    "            break\n",
    "        similarity,frame_diff = frame_count_compare(frame,img)\n",
    "        if similarity < SIM_TRSH:\n",
    "            print(f'Frame Number: {frame_num} Similarity:{similarity}')\n",
    "            show_images(1,frame,img, frame_diff)\n",
    "            diff +=1\n",
    " #           cap.set(cv2.CAP_PROP_POS_FRAMES,frame_num-2)\n",
    "        ok,frame =cap.read()\n",
    "        frame_num += 1\n",
    "    print(f'Найдено {diff} отличий')"
   ]
  },
  {
   "cell_type": "code",
   "execution_count": 32,
   "metadata": {},
   "outputs": [
    {
     "data": {
      "text/plain": [
       "\"\\nfor file in os.listdir(PATH):\\n    filepath = PATH+file\\n    print(f'File:{file}')\\n    with timex():\\n     check_video_jump(filepath,JUMP)\\n\""
      ]
     },
     "execution_count": 32,
     "metadata": {},
     "output_type": "execute_result"
    }
   ],
   "source": [
    "'''\n",
    "for file in os.listdir(PATH):\n",
    "    filepath = PATH+file\n",
    "    print(f'File:{file}')\n",
    "    with timex():\n",
    "     check_video_jump(filepath,JUMP)\n",
    "'''"
   ]
  },
  {
   "cell_type": "code",
   "execution_count": 33,
   "metadata": {},
   "outputs": [
    {
     "name": "stdout",
     "output_type": "stream",
     "text": [
      "File:Batch_Night_20_11.mp4\n",
      "Найдено 0 отличий\n",
      "Время обработки: 175.04 с\n",
      "File:Batch_BO_13-05.mp4\n",
      "Найдено 0 отличий\n",
      "Время обработки: 1705.16 с\n",
      "File:Batch_Night_20-11.mp4\n",
      "Найдено 0 отличий\n",
      "Время обработки: 1477.20 с\n",
      "File:Batch_MOC_19_40.mp4\n",
      "Найдено 0 отличий\n",
      "Время обработки: 1685.14 с\n",
      "File:Batch_CP_16_10.mp4\n",
      "Найдено 0 отличий\n",
      "Время обработки: 215.52 с\n",
      "File:Batch_BO_13_05.mp4\n",
      "Найдено 0 отличий\n",
      "Время обработки: 242.69 с\n",
      "File:Batch_CP_16-10.mp4\n",
      "Найдено 0 отличий\n",
      "Время обработки: 1817.57 с\n",
      "File:Batch_MOC_19-40.mp4\n",
      "Найдено 0 отличий\n",
      "Время обработки: 200.82 с\n"
     ]
    }
   ],
   "source": [
    "for file in os.listdir(PATH):\n",
    "    print(f'File:{file}')\n",
    "    with timex():\n",
    "        name,_ = os.path.splitext(file)\n",
    "        check_video_image_similarity(name)"
   ]
  }
 ],
 "metadata": {
  "kernelspec": {
   "display_name": "CVE",
   "language": "python",
   "name": "python3"
  },
  "language_info": {
   "codemirror_mode": {
    "name": "ipython",
    "version": 3
   },
   "file_extension": ".py",
   "mimetype": "text/x-python",
   "name": "python",
   "nbconvert_exporter": "python",
   "pygments_lexer": "ipython3",
   "version": "3.10.6"
  },
  "orig_nbformat": 4
 },
 "nbformat": 4,
 "nbformat_minor": 2
}
